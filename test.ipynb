{
 "cells": [
  {
   "cell_type": "code",
   "execution_count": 1,
   "id": "cc3c60b7",
   "metadata": {},
   "outputs": [
    {
     "name": "stdout",
     "output_type": "stream",
     "text": [
      "{'_id': ObjectId('6857e66ffba0d7282486aee0'), 'adult': False, 'backdrop_path': '/xRyINp9KfMLVjRiO5nCsoRDdvvF.jpg', 'belongs_to_collection': None, 'budget': 63000000, 'genres': [{'id': 18, 'name': 'Drama'}], 'homepage': 'http://www.foxmovies.com/movies/fight-club', 'id': 550, 'imdb_id': 'tt0137523', 'origin_country': ['US'], 'original_language': 'en', 'original_title': 'Fight Club', 'overview': 'A ticking-time-bomb insomniac and a slippery soap salesman channel primal male aggression into a shocking new form of therapy. Their concept catches on, with underground \"fight clubs\" forming in every town, until an eccentric gets in the way and ignites an out-of-control spiral toward oblivion.', 'popularity': 20.355, 'poster_path': '/pB8BM7pdSp6B6Ih7QZ4DrQ3PmJK.jpg', 'production_companies': [{'id': 711, 'logo_path': '/tEiIH5QesdheJmDAqQwvtN60727.png', 'name': 'Fox 2000 Pictures', 'origin_country': 'US'}, {'id': 508, 'logo_path': '/7cxRWzi4LsVm4Utfpr1hfARNurT.png', 'name': 'Regency Enterprises', 'origin_country': 'US'}, {'id': 4700, 'logo_path': '/A32wmjrs9Psf4zw0uaixF0GXfxq.png', 'name': 'Linson Entertainment', 'origin_country': 'US'}, {'id': 25, 'logo_path': '/qZCc1lty5FzX30aOCVRBLzaVmcp.png', 'name': '20th Century Fox', 'origin_country': 'US'}, {'id': 20555, 'logo_path': '/hD8yEGUBlHOcfHYbujp71vD8gZp.png', 'name': 'Taurus Film', 'origin_country': 'DE'}], 'production_countries': [{'iso_3166_1': 'DE', 'name': 'Germany'}, {'iso_3166_1': 'US', 'name': 'United States of America'}], 'release_date': '1999-10-15', 'revenue': 100853753, 'runtime': 139, 'spoken_languages': [{'english_name': 'English', 'iso_639_1': 'en', 'name': 'English'}], 'status': 'Released', 'tagline': 'Mischief. Mayhem. Soap.', 'title': 'Fight Club', 'video': False, 'vote_average': 8.438, 'vote_count': 30374, 'videos': {'results': [{'iso_639_1': 'en', 'iso_3166_1': 'US', 'name': 'Yeah... no wonder this movie never won an Oscar', 'key': 'V0Fqdb-smqo', 'site': 'YouTube', 'size': 1080, 'type': 'Featurette', 'official': False, 'published_at': '2025-02-14T14:25:16.000Z', 'id': '67c90f7a3dd7da394f24957b'}, {'iso_639_1': 'en', 'iso_3166_1': 'US', 'name': '20th Anniversary Trailer', 'key': 'dfeUzm6KF4g', 'site': 'YouTube', 'size': 1080, 'type': 'Trailer', 'official': True, 'published_at': '2019-10-15T18:59:47.000Z', 'id': '64fb16fbdb4ed610343d72c3'}, {'iso_639_1': 'en', 'iso_3166_1': 'US', 'name': 'Mark Kermode introduces Fight Club | Film4 Interview', 'key': 'tiWCNtGDGEY', 'site': 'YouTube', 'size': 1080, 'type': 'Featurette', 'official': True, 'published_at': '2015-05-08T15:59:05.000Z', 'id': '65d00d0c57176f017b8fc73d'}, {'iso_639_1': 'en', 'iso_3166_1': 'US', 'name': 'Theatrical Trailer (HD Fan Remaster)', 'key': '6JnN1DmbqoU', 'site': 'YouTube', 'size': 1080, 'type': 'Trailer', 'official': False, 'published_at': '2015-02-26T03:19:25.000Z', 'id': '653b36ba5907de00c4953699'}, {'iso_639_1': 'en', 'iso_3166_1': 'US', 'name': '#TBT Trailer', 'key': 'BdJKm16Co6M', 'site': 'YouTube', 'size': 1080, 'type': 'Trailer', 'official': True, 'published_at': '2014-10-02T19:20:22.000Z', 'id': '5c9294240e0a267cd516835f'}]}}\n"
     ]
    }
   ],
   "source": [
    "from pymongo import MongoClient\n",
    "from core.transformer import normalize_json, normalize_nulls\n",
    "\n",
    "# Kết nối tới MongoDB (thay connection string nếu cần)\n",
    "client = MongoClient(\"mongodb://localhost:27017/\")\n",
    "\n",
    "# Chọn database và collection\n",
    "db = client[\"tmdb_data\"]\n",
    "collection = db[\"raw_movies\"]\n",
    "\n",
    "# Lấy ra một bản ghi bất kỳ\n",
    "document = collection.find_one()\n",
    "\n",
    "# In ra bản ghi\n",
    "print(document)\n"
   ]
  },
  {
   "cell_type": "code",
   "execution_count": 2,
   "id": "5ee00044",
   "metadata": {},
   "outputs": [
    {
     "name": "stdout",
     "output_type": "stream",
     "text": [
      "[13:28:35] INFO     Processing step: Starting JSON         error_handler.py:101\n",
      "                    normalization - Details:                                   \n",
      "                    {'input_type': 'dict'}                                     \n",
      "           INFO     Processing step: Flattened object -    error_handler.py:101\n",
      "                    Details: {'records_count': 1}                              \n"
     ]
    },
    {
     "name": "stdout",
     "output_type": "stream",
     "text": [
      "           INFO     Processing step: Extracted relations - error_handler.py:101\n",
      "                    Details: {'relations_count': 5}                            \n"
     ]
    },
    {
     "data": {
      "text/plain": [
       "{'main': [{'_id': ObjectId('6857e66ffba0d7282486aee0'),\n",
       "   'adult': False,\n",
       "   'backdrop_path': '/xRyINp9KfMLVjRiO5nCsoRDdvvF.jpg',\n",
       "   'belongs_to_collection': None,\n",
       "   'budget': 63000000,\n",
       "   'homepage': 'http://www.foxmovies.com/movies/fight-club',\n",
       "   'id': 550,\n",
       "   'imdb_id': 'tt0137523',\n",
       "   'origin_country': ['US'],\n",
       "   'original_language': 'en',\n",
       "   'original_title': 'Fight Club',\n",
       "   'overview': 'A ticking-time-bomb insomniac and a slippery soap salesman channel primal male aggression into a shocking new form of therapy. Their concept catches on, with underground \"fight clubs\" forming in every town, until an eccentric gets in the way and ignites an out-of-control spiral toward oblivion.',\n",
       "   'popularity': 20.355,\n",
       "   'poster_path': '/pB8BM7pdSp6B6Ih7QZ4DrQ3PmJK.jpg',\n",
       "   'release_date': '1999-10-15',\n",
       "   'revenue': 100853753,\n",
       "   'runtime': 139,\n",
       "   'status': 'Released',\n",
       "   'tagline': 'Mischief. Mayhem. Soap.',\n",
       "   'title': 'Fight Club',\n",
       "   'video': False,\n",
       "   'vote_average': 8.438,\n",
       "   'vote_count': 30374}],\n",
       " 'relations': {'genres_table': [{'id': 18,\n",
       "    'name': 'Drama',\n",
       "    'parent_id': 'genres_0'}],\n",
       "  'production_companies_table': [{'id': 711,\n",
       "    'logo_path': '/tEiIH5QesdheJmDAqQwvtN60727.png',\n",
       "    'name': 'Fox 2000 Pictures',\n",
       "    'origin_country': 'US',\n",
       "    'parent_id': 'production_companies_0'},\n",
       "   {'id': 508,\n",
       "    'logo_path': '/7cxRWzi4LsVm4Utfpr1hfARNurT.png',\n",
       "    'name': 'Regency Enterprises',\n",
       "    'origin_country': 'US',\n",
       "    'parent_id': 'production_companies_1'},\n",
       "   {'id': 4700,\n",
       "    'logo_path': '/A32wmjrs9Psf4zw0uaixF0GXfxq.png',\n",
       "    'name': 'Linson Entertainment',\n",
       "    'origin_country': 'US',\n",
       "    'parent_id': 'production_companies_2'},\n",
       "   {'id': 25,\n",
       "    'logo_path': '/qZCc1lty5FzX30aOCVRBLzaVmcp.png',\n",
       "    'name': '20th Century Fox',\n",
       "    'origin_country': 'US',\n",
       "    'parent_id': 'production_companies_3'},\n",
       "   {'id': 20555,\n",
       "    'logo_path': '/hD8yEGUBlHOcfHYbujp71vD8gZp.png',\n",
       "    'name': 'Taurus Film',\n",
       "    'origin_country': 'DE',\n",
       "    'parent_id': 'production_companies_4'}],\n",
       "  'production_countries_table': [{'iso_3166_1': 'DE',\n",
       "    'name': 'Germany',\n",
       "    'parent_id': 'production_countries_0'},\n",
       "   {'iso_3166_1': 'US',\n",
       "    'name': 'United States of America',\n",
       "    'parent_id': 'production_countries_1'}],\n",
       "  'spoken_languages_table': [{'english_name': 'English',\n",
       "    'iso_639_1': 'en',\n",
       "    'name': 'English',\n",
       "    'parent_id': 'spoken_languages_0'}],\n",
       "  'videos.results_table': [{'iso_639_1': 'en',\n",
       "    'iso_3166_1': 'US',\n",
       "    'name': 'Yeah... no wonder this movie never won an Oscar',\n",
       "    'key': 'V0Fqdb-smqo',\n",
       "    'site': 'YouTube',\n",
       "    'size': 1080,\n",
       "    'type': 'Featurette',\n",
       "    'official': False,\n",
       "    'published_at': '2025-02-14T14:25:16.000Z',\n",
       "    'id': '67c90f7a3dd7da394f24957b',\n",
       "    'parent_id': 'videos.results_0'},\n",
       "   {'iso_639_1': 'en',\n",
       "    'iso_3166_1': 'US',\n",
       "    'name': '20th Anniversary Trailer',\n",
       "    'key': 'dfeUzm6KF4g',\n",
       "    'site': 'YouTube',\n",
       "    'size': 1080,\n",
       "    'type': 'Trailer',\n",
       "    'official': True,\n",
       "    'published_at': '2019-10-15T18:59:47.000Z',\n",
       "    'id': '64fb16fbdb4ed610343d72c3',\n",
       "    'parent_id': 'videos.results_1'},\n",
       "   {'iso_639_1': 'en',\n",
       "    'iso_3166_1': 'US',\n",
       "    'name': 'Mark Kermode introduces Fight Club | Film4 Interview',\n",
       "    'key': 'tiWCNtGDGEY',\n",
       "    'site': 'YouTube',\n",
       "    'size': 1080,\n",
       "    'type': 'Featurette',\n",
       "    'official': True,\n",
       "    'published_at': '2015-05-08T15:59:05.000Z',\n",
       "    'id': '65d00d0c57176f017b8fc73d',\n",
       "    'parent_id': 'videos.results_2'},\n",
       "   {'iso_639_1': 'en',\n",
       "    'iso_3166_1': 'US',\n",
       "    'name': 'Theatrical Trailer (HD Fan Remaster)',\n",
       "    'key': '6JnN1DmbqoU',\n",
       "    'site': 'YouTube',\n",
       "    'size': 1080,\n",
       "    'type': 'Trailer',\n",
       "    'official': False,\n",
       "    'published_at': '2015-02-26T03:19:25.000Z',\n",
       "    'id': '653b36ba5907de00c4953699',\n",
       "    'parent_id': 'videos.results_3'},\n",
       "   {'iso_639_1': 'en',\n",
       "    'iso_3166_1': 'US',\n",
       "    'name': '#TBT Trailer',\n",
       "    'key': 'BdJKm16Co6M',\n",
       "    'site': 'YouTube',\n",
       "    'size': 1080,\n",
       "    'type': 'Trailer',\n",
       "    'official': True,\n",
       "    'published_at': '2014-10-02T19:20:22.000Z',\n",
       "    'id': '5c9294240e0a267cd516835f',\n",
       "    'parent_id': 'videos.results_4'}]}}"
      ]
     },
     "execution_count": 2,
     "metadata": {},
     "output_type": "execute_result"
    }
   ],
   "source": [
    "datadocument = normalize_json(document, sep=\".\", output_format=\"relational\")\n",
    "datadocument"
   ]
  },
  {
   "cell_type": "code",
   "execution_count": 3,
   "id": "2e2f5199",
   "metadata": {},
   "outputs": [
    {
     "data": {
      "text/plain": [
       "{'id': 1, 'genres': [], 'production_companies': [{}]}"
      ]
     },
     "execution_count": 3,
     "metadata": {},
     "output_type": "execute_result"
    }
   ],
   "source": [
    "sample_obj = {\n",
    "  \"id\": 1,\n",
    "  \"genres\": [],\n",
    "  \"production_companies\": [{}]\n",
    "}\n",
    "sample_obj"
   ]
  },
  {
   "cell_type": "code",
   "execution_count": 8,
   "id": "9ca5f59a",
   "metadata": {},
   "outputs": [
    {
     "name": "stdout",
     "output_type": "stream",
     "text": [
      "[13:31:12] INFO     Processing step: Starting JSON         error_handler.py:101\n",
      "                    normalization - Details:                                   \n",
      "                    {'input_type': 'dict'}                                     \n",
      "           INFO     Processing step: Flattened object -    error_handler.py:101\n",
      "                    Details: {'records_count': 1}                              \n",
      "           INFO     Processing step: Extracted relations - error_handler.py:101\n",
      "                    Details: {'relations_count': 1}                            \n"
     ]
    },
    {
     "data": {
      "text/plain": [
       "{'main':    id genres\n",
       " 0   1    N/A,\n",
       " 'production_companies_table':                 parent_id\n",
       " 0  production_companies_0}"
      ]
     },
     "execution_count": 8,
     "metadata": {},
     "output_type": "execute_result"
    }
   ],
   "source": [
    "data = normalize_json(sample_obj, output_format=\"dataframe\", null_value=\"N/A\")\n",
    "data"
   ]
  },
  {
   "cell_type": "code",
   "execution_count": 5,
   "id": "a8475794",
   "metadata": {},
   "outputs": [
    {
     "data": {
      "text/plain": [
       "[{'id': 2,\n",
       "  'cast': [{'name': 'Actor A',\n",
       "    'roles': [{'role': 'Hero', 'screen_time': 50, 'test': 'Test'},\n",
       "     {'role': 'Villain', 'screen_time': 20}]}]}]"
      ]
     },
     "execution_count": 5,
     "metadata": {},
     "output_type": "execute_result"
    }
   ],
   "source": [
    "sample_obj1 = {\n",
    "  \"id\": 2,\n",
    "  \"cast\": [\n",
    "    {\n",
    "      \"name\": \"Actor A\",\n",
    "      \"roles\": [\n",
    "        {\"role\": \"Hero\", \"screen_time\": 50, \"test\": \"Test\"},\n",
    "        {\"role\": \"Villain\", \"screen_time\": 20}\n",
    "      ]\n",
    "    }\n",
    "  ]\n",
    "}\n",
    "\n",
    "datatest1 = normalize_nulls([sample_obj1])\n",
    "datatest1"
   ]
  },
  {
   "cell_type": "code",
   "execution_count": 6,
   "id": "abd5cd5e",
   "metadata": {},
   "outputs": [
    {
     "data": {
      "text/plain": [
       "[{'id': 3,\n",
       "  'videos': [{'id': 'v1', 'type': 'Trailer'},\n",
       "   {'id': 'v2', 'type': 'Clip', 'duration': 120}]}]"
      ]
     },
     "execution_count": 6,
     "metadata": {},
     "output_type": "execute_result"
    }
   ],
   "source": [
    "sample_obj2 = {\n",
    "  \"id\": 3,\n",
    "  \"videos\": [\n",
    "    {\"id\": \"v1\", \"type\": \"Trailer\"},\n",
    "    {\"id\": \"v2\", \"type\": \"Clip\", \"duration\": 120}\n",
    "  ]\n",
    "}\n",
    "\n",
    "datatest2 = normalize_nulls([sample_obj2])\n",
    "datatest2"
   ]
  },
  {
   "cell_type": "code",
   "execution_count": 7,
   "id": "ac235e66",
   "metadata": {},
   "outputs": [
    {
     "name": "stdout",
     "output_type": "stream",
     "text": [
      "           INFO     Processing step: Starting JSON         error_handler.py:101\n",
      "                    normalization - Details:                                   \n",
      "                    {'input_type': 'dict'}                                     \n",
      "           INFO     Processing step: Flattened object -    error_handler.py:101\n",
      "                    Details: {'records_count': 1}                              \n",
      "           INFO     Processing step: Extracted relations - error_handler.py:101\n",
      "                    Details: {'relations_count': 2}                            \n"
     ]
    },
    {
     "data": {
      "text/plain": [
       "{'main': [{'id': 10}],\n",
       " 'relations': {'genres_table': [{'id': 1,\n",
       "    'name': 'Drama',\n",
       "    'parent_id': 'genres_0'}],\n",
       "  'videos_table': [{'id': '1', 'name': 'Trailer', 'parent_id': 'videos_0'}]}}"
      ]
     },
     "execution_count": 7,
     "metadata": {},
     "output_type": "execute_result"
    }
   ],
   "source": [
    "sample_obj3 ={\n",
    "  \"id\": 10,\n",
    "  \"genres\": [{\"id\": 1, \"name\": \"Drama\"}],\n",
    "  \"videos\": [{\"id\": \"1\", \"name\": \"Trailer\"}]\n",
    "}\n",
    "\n",
    "datatest3 = normalize_json(sample_obj3, output_format=\"relational\")\n",
    "datatest3"
   ]
  }
 ],
 "metadata": {
  "kernelspec": {
   "display_name": "Python 3",
   "language": "python",
   "name": "python3"
  },
  "language_info": {
   "codemirror_mode": {
    "name": "ipython",
    "version": 3
   },
   "file_extension": ".py",
   "mimetype": "text/x-python",
   "name": "python",
   "nbconvert_exporter": "python",
   "pygments_lexer": "ipython3",
   "version": "3.10.9"
  }
 },
 "nbformat": 4,
 "nbformat_minor": 5
}
